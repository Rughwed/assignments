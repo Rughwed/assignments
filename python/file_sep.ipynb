{
 "cells": [
  {
   "cell_type": "code",
   "execution_count": 15,
   "metadata": {},
   "outputs": [],
   "source": [
    "import os\n",
    "import shutil\n",
    "import sys\n",
    "\n",
    "def seg_file(folder):\n",
    "  try:  \n",
    "    dest1 = \"C:\\\\Users\\\\Admin\\\\Desktop\\\\file1\"\n",
    "    dest2 = \"C:\\\\Users\\\\Admin\\\\Desktop\\\\file2\"\n",
    "    dest3 = \"C:\\\\Users\\\\Admin\\\\Desktop\\\\file3\"\n",
    "\n",
    "    for i in os.listdir(folder):\n",
    "        file_path = \"C:\\\\Users\\\\Admin\\\\Desktop\\\\sample3\\\\\"+i \n",
    "\n",
    "        file_size_kb = os.stat(file_path).st_size \n",
    "\n",
    "        if os.path.isdir(file_path):\n",
    "            for i in os.listdir(file_path):\n",
    "                nest = file_path+\"\\\\\"+i\n",
    "\n",
    "                file_size_kb2 = os.stat(nest).st_size \n",
    "                \n",
    "                if file_size_kb2/1000 >=0 and file_size_kb2/1000<=1:\n",
    "                    shutil.copy(nest, dest1)\n",
    "                    print(f\"filename:{file_path:<50} filesize:{file_size_kb2/1000:<20}  file1 \")\n",
    "                elif file_size_kb2/1000 > 1 and file_size_kb2/1000 <=5:\n",
    "                    shutil.copy(nest, dest2)\n",
    "                    print(f\"filename:{file_path:<50} filesize:{file_size_kb2/1000:<20}  file2 \")\n",
    "                elif file_size_kb2/1000 > 5:\n",
    "                    shutil.copy(nest, dest3)\n",
    "                    print(f\"filename:{file_path:<50} filesize:{file_size_kb2/1000:<20}  file3 \")\n",
    "\n",
    "\n",
    "        elif file_size_kb/1000 >=0 and file_size_kb/1000<=1:\n",
    "            shutil.copy(file_path, dest1)\n",
    "            print(f\"filename:{file_path:<50} filesize:{file_size_kb/1000:<20}  file1 \")\n",
    "        elif file_size_kb/1000 > 1 and file_size_kb/1000 <=5:\n",
    "            shutil.copy(file_path, dest2)\n",
    "            print(f\"filename:{file_path:<50} filesize:{file_size_kb/1000:<20}  file2 \")\n",
    "        elif file_size_kb/1000 > 5:\n",
    "            shutil.copy(file_path, dest3)\n",
    "            print(f\"filename:{file_path:<50} filesize:{file_size_kb/1000:<20}  file3 \")\n",
    "  except:\n",
    "      print(sys.exc_info())\n"
   ]
  },
  {
   "cell_type": "code",
   "execution_count": 16,
   "metadata": {},
   "outputs": [
    {
     "name": "stdout",
     "output_type": "stream",
     "text": [
      "filename:C:\\Users\\Admin\\Desktop\\sample3\\abc.txt             filesize:0.01                  file1 \n",
      "filename:C:\\Users\\Admin\\Desktop\\sample3\\act1.ipynb          filesize:2.096                 file2 \n",
      "filename:C:\\Users\\Admin\\Desktop\\sample3\\act1_2.ipynb        filesize:3.4                   file2 \n",
      "filename:C:\\Users\\Admin\\Desktop\\sample3\\act1_2.txt          filesize:0.0                   file1 \n",
      "filename:C:\\Users\\Admin\\Desktop\\sample3\\act3.ipynb          filesize:1.476                 file2 \n",
      "filename:C:\\Users\\Admin\\Desktop\\sample3\\bill.ipynb          filesize:1.552                 file2 \n",
      "filename:C:\\Users\\Admin\\Desktop\\sample3\\class.ipynb         filesize:2.819                 file2 \n",
      "filename:C:\\Users\\Admin\\Desktop\\sample3\\cut.txt             filesize:0.0                   file1 \n",
      "filename:C:\\Users\\Admin\\Desktop\\sample3\\decorators.ipynb    filesize:2.124                 file2 \n",
      "filename:C:\\Users\\Admin\\Desktop\\sample3\\example.txt         filesize:0.0                   file1 \n",
      "filename:C:\\Users\\Admin\\Desktop\\sample3\\fileSep.ipynb       filesize:0.0                   file1 \n",
      "filename:C:\\Users\\Admin\\Desktop\\sample3\\image.jpg           filesize:1158.465              file3 \n",
      "filename:C:\\Users\\Admin\\Desktop\\sample3\\jan13.ipynb         filesize:9.761                 file3 \n",
      "filename:C:\\Users\\Admin\\Desktop\\sample3\\jan14.ipynb         filesize:177.63                file3 \n",
      "filename:C:\\Users\\Admin\\Desktop\\sample3\\oops.ipynb          filesize:1.412                 file2 \n",
      "filename:C:\\Users\\Admin\\Desktop\\sample3\\OpSy.ipynb          filesize:7.694                 file3 \n",
      "filename:C:\\Users\\Admin\\Desktop\\sample3\\python1.ipynb       filesize:27.712                file3 \n",
      "filename:C:\\Users\\Admin\\Desktop\\sample3\\python2.ipynb       filesize:13.0                  file3 \n",
      "filename:C:\\Users\\Admin\\Desktop\\sample3\\Python3.ipynb       filesize:7.606                 file3 \n",
      "filename:C:\\Users\\Admin\\Desktop\\sample3\\regex.ipynb         filesize:6.159                 file3 \n",
      "filename:C:\\Users\\Admin\\Desktop\\sample3\\Stringsi.ipynb      filesize:0.847                 file1 \n",
      "filename:C:\\Users\\Admin\\Desktop\\sample3\\tees.ipynb          filesize:2.008                 file2 \n",
      "filename:C:\\Users\\Admin\\Desktop\\sample3\\test.ipynb          filesize:1.581                 file2 \n",
      "filename:C:\\Users\\Admin\\Desktop\\sample3\\xyz                 filesize:0.01                  file1 \n",
      "filename:C:\\Users\\Admin\\Desktop\\sample3\\xyz                 filesize:2.096                 file2 \n",
      "filename:C:\\Users\\Admin\\Desktop\\sample3\\xyz                 filesize:3.4                   file2 \n",
      "filename:C:\\Users\\Admin\\Desktop\\sample3\\xyz                 filesize:0.0                   file1 \n"
     ]
    }
   ],
   "source": [
    "folder = \"C:\\\\Users\\\\Admin\\\\Desktop\\\\sample3\"\n",
    "seg_file(folder)"
   ]
  },
  {
   "cell_type": "code",
   "execution_count": null,
   "metadata": {},
   "outputs": [],
   "source": []
  }
 ],
 "metadata": {
  "kernelspec": {
   "display_name": "Python 3",
   "language": "python",
   "name": "python3"
  },
  "language_info": {
   "codemirror_mode": {
    "name": "ipython",
    "version": 3
   },
   "file_extension": ".py",
   "mimetype": "text/x-python",
   "name": "python",
   "nbconvert_exporter": "python",
   "pygments_lexer": "ipython3",
   "version": "3.12.1"
  }
 },
 "nbformat": 4,
 "nbformat_minor": 2
}
