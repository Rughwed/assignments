{
 "cells": [
  {
   "cell_type": "code",
   "execution_count": 1,
   "metadata": {},
   "outputs": [
    {
     "name": "stdout",
     "output_type": "stream",
     "text": [
      "Customer Details are:\n",
      "\n",
      "\n",
      "Customer Registered sucessfully!\n"
     ]
    }
   ],
   "source": [
    "from datetime import datetime, date, time\n",
    "import re\n",
    "\n",
    "def validate(takeinput, check, optional=False):\n",
    "    error = ''\n",
    "    while True:\n",
    "\n",
    "        value=input(error + takeinput)\n",
    "        if optional and value=='':\n",
    "            return value\n",
    "\n",
    "\n",
    "        elif check=='name':\n",
    "                name_function = lambda x: x.isalpha() and len(x) >= 2 and len(x) <= 20\n",
    "                if name_function(value):\n",
    "                    a = value.capitalize()\n",
    "                    return a\n",
    "                else:\n",
    "                    error = 'Name should contain letters only and characters are between 2 and 20. '\n",
    "\n",
    "\n",
    "        elif check=='phoneno':\n",
    "                mobno_function = lambda x: x.isdigit() and len(x)==10\n",
    "                if mobno_function(value):\n",
    "                    return int(value)\n",
    "                else:\n",
    "                    error = 'Mobile No should contain digits only and length should be 10. '\n",
    "  \n",
    "print(\"Customer Details are:\\n\")\n",
    "firstname= validate('Enter your firstname:','name')\n",
    "middlename= validate('Enter your middlename (Optional):', 'name', optional=True)\n",
    "lastname= validate('Enter your lastname:','name')\n",
    "mobno= validate('Enter your Mobile no:','phoneno')\n",
    "\n",
    "\n",
    "fullname=f'{firstname} {middlename} {lastname}'\n",
    "print(\"\\nCustomer Registered sucessfully!\")\n"
   ]
  },
  {
   "cell_type": "code",
   "execution_count": 2,
   "metadata": {},
   "outputs": [
    {
     "name": "stdout",
     "output_type": "stream",
     "text": [
      "\n",
      "Customer Details:\n",
      "\n",
      "name : Rughwed Dharmendra Kini\n",
      "Mobile No : 9607093731\n"
     ]
    }
   ],
   "source": [
    "print(\"\\nCustomer Details:\\n\")\n",
    "\n",
    "dict1={'name': fullname,\n",
    "       'Mobile No':mobno,\n",
    "}\n",
    "\n",
    "for i in dict1:\n",
    "    print(f'{i} : {dict1[i]}')"
   ]
  }
 ],
 "metadata": {
  "kernelspec": {
   "display_name": "Python 3",
   "language": "python",
   "name": "python3"
  },
  "language_info": {
   "codemirror_mode": {
    "name": "ipython",
    "version": 3
   },
   "file_extension": ".py",
   "mimetype": "text/x-python",
   "name": "python",
   "nbconvert_exporter": "python",
   "pygments_lexer": "ipython3",
   "version": "3.12.1"
  }
 },
 "nbformat": 4,
 "nbformat_minor": 2
}
