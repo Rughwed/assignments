{
 "cells": [
  {
   "cell_type": "code",
   "execution_count": 215,
   "metadata": {},
   "outputs": [],
   "source": [
    "import sys"
   ]
  },
  {
   "cell_type": "code",
   "execution_count": 220,
   "metadata": {},
   "outputs": [],
   "source": [
    "class Hotel():\n",
    "    def __init__(self,**menu):\n",
    "        self.menu=menu\n",
    "        self.total = 0\n",
    "        self.flag = True\n",
    "        self.order = {}\n",
    "        self.bill = ''\n",
    "\n",
    "    def take_order(self):\n",
    "        try:\n",
    "            while self.flag:\n",
    "                a = input(f\"oder from menu:{self.menu}\")\n",
    "                q = int(input(f'how many?'))\n",
    "                self.order[a]=q\n",
    "                self.total +=(self.menu[a]*q)\n",
    "                f = input(\"do you wanna order anything\")\n",
    "                if f.lower()=='yes':\n",
    "                    continue\n",
    "                else:\n",
    "                    break\n",
    "        except:\n",
    "            print(sys.exc_info())\n",
    "\n",
    "    def print_b(self):\n",
    "        print(f\"{\"item\":^20}  {\"quantity\":^20} {\"price\":^20}\\n\")\n",
    "        print(f\"{'Hotel'*15}\")\n",
    "        for i in self.order:\n",
    "            print(f\"{i:^20}  {self.order[i]:^20} {self.menu[i]:^20}\\n\")\n",
    "        print(f\"{'Hotel'*15}\")\n",
    "        print(f\"{'Total:':^20}  {'':^20} {self.total:^20}\\n\")\n",
    "        "
   ]
  },
  {
   "cell_type": "code",
   "execution_count": 221,
   "metadata": {},
   "outputs": [],
   "source": [
    "menu = {'idli':30,'vada':40,'tea':12,'biscuit':10,'waffers':5}"
   ]
  },
  {
   "cell_type": "code",
   "execution_count": 222,
   "metadata": {},
   "outputs": [],
   "source": [
    "a = Hotel(**menu)"
   ]
  },
  {
   "cell_type": "code",
   "execution_count": 223,
   "metadata": {},
   "outputs": [],
   "source": [
    "a.take_order()"
   ]
  },
  {
   "cell_type": "code",
   "execution_count": 224,
   "metadata": {},
   "outputs": [
    {
     "data": {
      "text/plain": [
       "{'idli': 3, 'vada': 3, 'tea': 3, 'biscuit': 4}"
      ]
     },
     "execution_count": 224,
     "metadata": {},
     "output_type": "execute_result"
    }
   ],
   "source": [
    "a.order"
   ]
  },
  {
   "cell_type": "code",
   "execution_count": 225,
   "metadata": {},
   "outputs": [
    {
     "name": "stdout",
     "output_type": "stream",
     "text": [
      "        item                quantity              price        \n",
      "\n",
      "HotelHotelHotelHotelHotelHotelHotelHotelHotelHotelHotelHotelHotelHotelHotel\n",
      "        idli                   3                    30         \n",
      "\n",
      "        vada                   3                    40         \n",
      "\n",
      "        tea                    3                    12         \n",
      "\n",
      "      biscuit                  4                    10         \n",
      "\n",
      "HotelHotelHotelHotelHotelHotelHotelHotelHotelHotelHotelHotelHotelHotelHotel\n",
      "       Total:                                      286         \n",
      "\n"
     ]
    }
   ],
   "source": [
    "a.print_b()"
   ]
  }
 ],
 "metadata": {
  "kernelspec": {
   "display_name": "Python 3",
   "language": "python",
   "name": "python3"
  },
  "language_info": {
   "codemirror_mode": {
    "name": "ipython",
    "version": 3
   },
   "file_extension": ".py",
   "mimetype": "text/x-python",
   "name": "python",
   "nbconvert_exporter": "python",
   "pygments_lexer": "ipython3",
   "version": "3.12.1"
  }
 },
 "nbformat": 4,
 "nbformat_minor": 2
}
