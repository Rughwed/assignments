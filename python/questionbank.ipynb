{
 "cells": [
  {
   "cell_type": "markdown",
   "metadata": {},
   "source": [
    "# 1.Create the empty list and ask user to enters only int, float elements in the list."
   ]
  },
  {
   "cell_type": "code",
   "execution_count": 2,
   "metadata": {},
   "outputs": [],
   "source": [
    "empt = []\n",
    "def inp():\n",
    "\n",
    "    while True:\n",
    "        t = input(\"enter int or float number\")\n",
    "        if t == 'no':\n",
    "            break\n",
    "        else:\n",
    "            try:\n",
    "                if t.isnumeric():\n",
    "                    empt.append(int(t))\n",
    "                else:\n",
    "                    empt.append(float(t))\n",
    "            except:\n",
    "                print(\"wrogn data type\")\n"
   ]
  },
  {
   "cell_type": "markdown",
   "metadata": {},
   "source": [
    "# 2.Create a empty dictionary d1 ask user to enter the values using loop"
   ]
  },
  {
   "cell_type": "code",
   "execution_count": null,
   "metadata": {},
   "outputs": [],
   "source": []
  }
 ],
 "metadata": {
  "kernelspec": {
   "display_name": "Python 3",
   "language": "python",
   "name": "python3"
  },
  "language_info": {
   "codemirror_mode": {
    "name": "ipython",
    "version": 3
   },
   "file_extension": ".py",
   "mimetype": "text/x-python",
   "name": "python",
   "nbconvert_exporter": "python",
   "pygments_lexer": "ipython3",
   "version": "3.12.1"
  }
 },
 "nbformat": 4,
 "nbformat_minor": 2
}
