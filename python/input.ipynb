{
 "cells": [
  {
   "cell_type": "code",
   "execution_count": 24,
   "metadata": {},
   "outputs": [],
   "source": [
    "l = []\n",
    "import sys\n",
    "\n",
    "def take_inp():\n",
    "    try:\n",
    "        a = input(\"enter the input\")\n",
    "        if a.isdigit():\n",
    "            l.append(int(a))\n",
    "        elif a.isalpha() or a.isalnum():\n",
    "            l.append(str(a))\n",
    "        elif a == 'True' or a=='False':\n",
    "            l.append(bool(a))\n",
    "        else:\n",
    "            l.append(float(a))\n",
    "    except :\n",
    "        print(sys.exc_info()[1])\n",
    "\n",
    "        "
   ]
  }
 ],
 "metadata": {
  "kernelspec": {
   "display_name": "Python 3",
   "language": "python",
   "name": "python3"
  },
  "language_info": {
   "codemirror_mode": {
    "name": "ipython",
    "version": 3
   },
   "file_extension": ".py",
   "mimetype": "text/x-python",
   "name": "python",
   "nbconvert_exporter": "python",
   "pygments_lexer": "ipython3",
   "version": "3.12.1"
  }
 },
 "nbformat": 4,
 "nbformat_minor": 2
}
