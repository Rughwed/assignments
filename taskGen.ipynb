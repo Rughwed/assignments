{
 "cells": [
  {
   "cell_type": "code",
   "execution_count": 1,
   "metadata": {},
   "outputs": [],
   "source": [
    "import datetime "
   ]
  },
  {
   "cell_type": "code",
   "execution_count": 15,
   "metadata": {},
   "outputs": [
    {
     "name": "stdout",
     "output_type": "stream",
     "text": [
      "2025-01-20 00:00:00\n",
      "2025-01-24 00:00:00\n"
     ]
    }
   ],
   "source": [
    "start_date = input(\"enter the date in format yyyy-mm-dd\")\n",
    "\n",
    "end_date = input(\"enter the date in fomrat yyyy-mm-dd\")\n",
    "\n",
    "s_date = datetime.datetime.strptime(start_date,'%Y-%m-%d')\n",
    "e_date = datetime.datetime.strptime(end_date,'%Y-%m-%d')\n",
    "\n",
    "print(s_date)\n",
    "print(e_date)\n"
   ]
  },
  {
   "cell_type": "code",
   "execution_count": 16,
   "metadata": {},
   "outputs": [
    {
     "data": {
      "text/plain": [
       "4"
      ]
     },
     "execution_count": 16,
     "metadata": {},
     "output_type": "execute_result"
    }
   ],
   "source": [
    "diff = (e_date-s_date).days\n",
    "diff"
   ]
  },
  {
   "cell_type": "code",
   "execution_count": 17,
   "metadata": {},
   "outputs": [],
   "source": [
    "l1 = []"
   ]
  },
  {
   "cell_type": "code",
   "execution_count": 18,
   "metadata": {},
   "outputs": [],
   "source": [
    "for i in range (diff):\n",
    "    # print(s_date.strftime('%a'))\n",
    "    l1.append(s_date.strftime('%a'))\n",
    "    s_date = s_date + datetime.timedelta(days=1)\n",
    "    "
   ]
  },
  {
   "cell_type": "code",
   "execution_count": 19,
   "metadata": {},
   "outputs": [],
   "source": [
    "d2 = {}\n",
    "for i in l1:\n",
    "    if(i not in ['Sat',\"Sun\"]):\n",
    "        d2[i] = input(f\"enter the task for {i}\")\n"
   ]
  },
  {
   "cell_type": "code",
   "execution_count": 20,
   "metadata": {},
   "outputs": [
    {
     "data": {
      "text/plain": [
       "{'Mon': 'java', 'Tue': 'python', 'Wed': 'html', 'Thu': 'c++'}"
      ]
     },
     "execution_count": 20,
     "metadata": {},
     "output_type": "execute_result"
    }
   ],
   "source": [
    "d2"
   ]
  }
 ],
 "metadata": {
  "kernelspec": {
   "display_name": "Python 3",
   "language": "python",
   "name": "python3"
  },
  "language_info": {
   "codemirror_mode": {
    "name": "ipython",
    "version": 3
   },
   "file_extension": ".py",
   "mimetype": "text/x-python",
   "name": "python",
   "nbconvert_exporter": "python",
   "pygments_lexer": "ipython3",
   "version": "3.12.1"
  }
 },
 "nbformat": 4,
 "nbformat_minor": 2
}
