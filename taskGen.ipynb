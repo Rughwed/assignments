{
 "cells": [
  {
   "cell_type": "code",
   "execution_count": 21,
   "metadata": {},
   "outputs": [],
   "source": [
    "class task_g():\n",
    "    def __init__(self,d1,d2):\n",
    "        self.a = datetime.datetime.strptime(d1,'%d-%m-%Y')\n",
    "        self.b = datetime.datetime.strptime(d2,'%d-%m-%Y')\n",
    "        self.diff = (self.b-self.a).days\n",
    "        self.li = []\n",
    "        for i in range(self.diff):\n",
    "             self.li.append(self.a.strftime('%a'))\n",
    "             self.a +=datetime.timedelta(days=1)\n",
    "        self.di={}\n",
    "             \n",
    "    \n",
    "    def givet(self):\n",
    "        for i in self.li:\n",
    "            if i not in ['Sat','Sun']:\n",
    "                self.di[i]=input(f\"enter the task for {i}\")\n",
    "            \n",
    "\n",
    "                \n",
    "\n",
    "        return self.di\n",
    "    \n",
    "    \n",
    "    \n",
    "    "
   ]
  },
  {
   "cell_type": "code",
   "execution_count": 22,
   "metadata": {},
   "outputs": [],
   "source": [
    "a = task_g('24-01-2025','28-01-2025')"
   ]
  },
  {
   "cell_type": "code",
   "execution_count": 25,
   "metadata": {},
   "outputs": [
    {
     "data": {
      "text/plain": [
       "{'Fri': 'python', 'Mon': 'java'}"
      ]
     },
     "execution_count": 25,
     "metadata": {},
     "output_type": "execute_result"
    }
   ],
   "source": [
    "a.givet()"
   ]
  }
 ],
 "metadata": {
  "kernelspec": {
   "display_name": "Python 3",
   "language": "python",
   "name": "python3"
  },
  "language_info": {
   "codemirror_mode": {
    "name": "ipython",
    "version": 3
   },
   "file_extension": ".py",
   "mimetype": "text/x-python",
   "name": "python",
   "nbconvert_exporter": "python",
   "pygments_lexer": "ipython3",
   "version": "3.12.1"
  }
 },
 "nbformat": 4,
 "nbformat_minor": 2
}
