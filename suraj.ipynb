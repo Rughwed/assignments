{
 "cells": [
  {
   "cell_type": "code",
   "execution_count": null,
   "metadata": {},
   "outputs": [],
   "source": [
    "import os\n",
    "import shutil\n",
    " \n",
    " \n",
    "try:\n",
    "    for i in os.listdir(r'C:\\Users\\satpu\\OneDrive\\Pulpit\\Bizmetric\\Python'):\n",
    "        filename = 'C:\\\\Users\\\\satpu\\\\OneDrive\\\\Pulpit\\\\Bizmetric\\\\Python\\\\'+i\n",
    "        file_size = os.stat(filename).st_size/1000\n",
    "        print(f'{i:<25} {file_size}')\n",
    " \n",
    "        if 0.00 <= file_size <= 1.000:\n",
    "            shutil.copy(filename, r'C:\\Users\\satpu\\OneDrive\\Pulpit\\File_handling\\Less_Than_1KB')\n",
    "        elif 1.000 < file_size < 5.000:\n",
    "            shutil.copy(filename, r'C:\\Users\\satpu\\OneDrive\\Pulpit\\File_handling\\Less_Than_5KB')\n",
    "        elif file_size >= 5.000:\n",
    "            shutil.copy(filename, r'C:\\Users\\satpu\\OneDrive\\Pulpit\\File_handling\\More_Than_5KB')\n",
    " \n",
    "except Exception as e:\n",
    "    print(f'Something Went Wrong! Error: {e}')"
   ]
  }
 ],
 "metadata": {
  "language_info": {
   "name": "python"
  }
 },
 "nbformat": 4,
 "nbformat_minor": 2
}
