{
 "cells": [
  {
   "cell_type": "code",
   "execution_count": 32,
   "metadata": {},
   "outputs": [
    {
     "name": "stdout",
     "output_type": "stream",
     "text": [
      "filename:C:\\Users\\Admin\\Desktop\\sample3\\abc.txt             filesize:0.01                  file1 \n",
      "filename:C:\\Users\\Admin\\Desktop\\sample3\\act1.ipynb          filesize:2.096                 file2 \n",
      "filename:C:\\Users\\Admin\\Desktop\\sample3\\act1_2.ipynb        filesize:3.4                   file2 \n",
      "filename:C:\\Users\\Admin\\Desktop\\sample3\\act1_2.txt          filesize:0.0                   file1 \n",
      "filename:C:\\Users\\Admin\\Desktop\\sample3\\act3.ipynb          filesize:1.476                 file2 \n",
      "filename:C:\\Users\\Admin\\Desktop\\sample3\\bill.ipynb          filesize:1.552                 file2 \n",
      "filename:C:\\Users\\Admin\\Desktop\\sample3\\class.ipynb         filesize:2.819                 file2 \n",
      "filename:C:\\Users\\Admin\\Desktop\\sample3\\cut.txt             filesize:0.0                   file1 \n",
      "filename:C:\\Users\\Admin\\Desktop\\sample3\\decorators.ipynb    filesize:2.124                 file2 \n",
      "filename:C:\\Users\\Admin\\Desktop\\sample3\\example.txt         filesize:0.0                   file1 \n",
      "filename:C:\\Users\\Admin\\Desktop\\sample3\\fileSep.ipynb       filesize:0.0                   file1 \n",
      "filename:C:\\Users\\Admin\\Desktop\\sample3\\image.jpg           filesize:1158.465              file3 \n",
      "filename:C:\\Users\\Admin\\Desktop\\sample3\\jan13.ipynb         filesize:9.761                 file3 \n",
      "filename:C:\\Users\\Admin\\Desktop\\sample3\\jan14.ipynb         filesize:177.63                file3 \n",
      "filename:C:\\Users\\Admin\\Desktop\\sample3\\oops.ipynb          filesize:1.412                 file2 \n",
      "filename:C:\\Users\\Admin\\Desktop\\sample3\\OpSy.ipynb          filesize:7.694                 file3 \n",
      "filename:C:\\Users\\Admin\\Desktop\\sample3\\python1.ipynb       filesize:27.712                file3 \n",
      "filename:C:\\Users\\Admin\\Desktop\\sample3\\python2.ipynb       filesize:13.0                  file3 \n",
      "filename:C:\\Users\\Admin\\Desktop\\sample3\\Python3.ipynb       filesize:7.606                 file3 \n",
      "filename:C:\\Users\\Admin\\Desktop\\sample3\\regex.ipynb         filesize:6.159                 file3 \n",
      "filename:C:\\Users\\Admin\\Desktop\\sample3\\Stringsi.ipynb      filesize:0.847                 file1 \n",
      "filename:C:\\Users\\Admin\\Desktop\\sample3\\tees.ipynb          filesize:2.008                 file2 \n",
      "filename:C:\\Users\\Admin\\Desktop\\sample3\\test.ipynb          filesize:1.581                 file2 \n"
     ]
    },
    {
     "ename": "PermissionError",
     "evalue": "[Errno 13] Permission denied: 'C:\\\\Users\\\\Admin\\\\Desktop\\\\sample3\\\\xyz'",
     "output_type": "error",
     "traceback": [
      "\u001b[1;31m---------------------------------------------------------------------------\u001b[0m",
      "\u001b[1;31mPermissionError\u001b[0m                           Traceback (most recent call last)",
      "Cell \u001b[1;32mIn[32], line 31\u001b[0m\n\u001b[0;32m     28\u001b[0m             \u001b[38;5;28mprint\u001b[39m(\u001b[38;5;124mf\u001b[39m\u001b[38;5;124m\"\u001b[39m\u001b[38;5;124mfilename:\u001b[39m\u001b[38;5;132;01m{\u001b[39;00mfile_path\u001b[38;5;132;01m:\u001b[39;00m\u001b[38;5;124m<50\u001b[39m\u001b[38;5;132;01m}\u001b[39;00m\u001b[38;5;124m filesize:\u001b[39m\u001b[38;5;132;01m{\u001b[39;00mfile_size_kb\u001b[38;5;241m/\u001b[39m\u001b[38;5;241m1000\u001b[39m\u001b[38;5;132;01m:\u001b[39;00m\u001b[38;5;124m<20\u001b[39m\u001b[38;5;132;01m}\u001b[39;00m\u001b[38;5;124m  file3 \u001b[39m\u001b[38;5;124m\"\u001b[39m)\n\u001b[0;32m     30\u001b[0m folder \u001b[38;5;241m=\u001b[39m \u001b[38;5;124m\"\u001b[39m\u001b[38;5;124mC:\u001b[39m\u001b[38;5;130;01m\\\\\u001b[39;00m\u001b[38;5;124mUsers\u001b[39m\u001b[38;5;130;01m\\\\\u001b[39;00m\u001b[38;5;124mAdmin\u001b[39m\u001b[38;5;130;01m\\\\\u001b[39;00m\u001b[38;5;124mDesktop\u001b[39m\u001b[38;5;130;01m\\\\\u001b[39;00m\u001b[38;5;124msample3\u001b[39m\u001b[38;5;124m\"\u001b[39m\n\u001b[1;32m---> 31\u001b[0m \u001b[43mseg_file\u001b[49m\u001b[43m(\u001b[49m\u001b[43mfolder\u001b[49m\u001b[43m)\u001b[49m\n",
      "Cell \u001b[1;32mIn[32], line 21\u001b[0m, in \u001b[0;36mseg_file\u001b[1;34m(folder)\u001b[0m\n\u001b[0;32m     18\u001b[0m file_size_kb \u001b[38;5;241m=\u001b[39m os\u001b[38;5;241m.\u001b[39mstat(file_path)\u001b[38;5;241m.\u001b[39mst_size  \u001b[38;5;66;03m# File size in KB\u001b[39;00m\n\u001b[0;32m     20\u001b[0m \u001b[38;5;28;01mif\u001b[39;00m file_size_kb\u001b[38;5;241m/\u001b[39m\u001b[38;5;241m1000\u001b[39m \u001b[38;5;241m>\u001b[39m\u001b[38;5;241m=\u001b[39m\u001b[38;5;241m0\u001b[39m \u001b[38;5;129;01mand\u001b[39;00m file_size_kb\u001b[38;5;241m/\u001b[39m\u001b[38;5;241m1000\u001b[39m\u001b[38;5;241m<\u001b[39m\u001b[38;5;241m=\u001b[39m\u001b[38;5;241m1\u001b[39m:\n\u001b[1;32m---> 21\u001b[0m     \u001b[43mshutil\u001b[49m\u001b[38;5;241;43m.\u001b[39;49m\u001b[43mcopy\u001b[49m\u001b[43m(\u001b[49m\u001b[43mfile_path\u001b[49m\u001b[43m,\u001b[49m\u001b[43m \u001b[49m\u001b[43mdest1\u001b[49m\u001b[43m)\u001b[49m\n\u001b[0;32m     22\u001b[0m     \u001b[38;5;28mprint\u001b[39m(\u001b[38;5;124mf\u001b[39m\u001b[38;5;124m\"\u001b[39m\u001b[38;5;124mfilename:\u001b[39m\u001b[38;5;132;01m{\u001b[39;00mfile_path\u001b[38;5;132;01m:\u001b[39;00m\u001b[38;5;124m<50\u001b[39m\u001b[38;5;132;01m}\u001b[39;00m\u001b[38;5;124m filesize:\u001b[39m\u001b[38;5;132;01m{\u001b[39;00mfile_size_kb\u001b[38;5;241m/\u001b[39m\u001b[38;5;241m1000\u001b[39m\u001b[38;5;132;01m:\u001b[39;00m\u001b[38;5;124m<20\u001b[39m\u001b[38;5;132;01m}\u001b[39;00m\u001b[38;5;124m  file1 \u001b[39m\u001b[38;5;124m\"\u001b[39m)\n\u001b[0;32m     23\u001b[0m \u001b[38;5;28;01melif\u001b[39;00m file_size_kb\u001b[38;5;241m/\u001b[39m\u001b[38;5;241m1000\u001b[39m \u001b[38;5;241m>\u001b[39m \u001b[38;5;241m1\u001b[39m \u001b[38;5;129;01mand\u001b[39;00m file_size_kb\u001b[38;5;241m/\u001b[39m\u001b[38;5;241m1000\u001b[39m \u001b[38;5;241m<\u001b[39m\u001b[38;5;241m=\u001b[39m\u001b[38;5;241m5\u001b[39m:\n",
      "File \u001b[1;32mc:\\Users\\Admin\\AppData\\Local\\Programs\\Python\\Python312\\Lib\\shutil.py:423\u001b[0m, in \u001b[0;36mcopy\u001b[1;34m(src, dst, follow_symlinks)\u001b[0m\n\u001b[0;32m    421\u001b[0m \u001b[38;5;28;01mif\u001b[39;00m os\u001b[38;5;241m.\u001b[39mpath\u001b[38;5;241m.\u001b[39misdir(dst):\n\u001b[0;32m    422\u001b[0m     dst \u001b[38;5;241m=\u001b[39m os\u001b[38;5;241m.\u001b[39mpath\u001b[38;5;241m.\u001b[39mjoin(dst, os\u001b[38;5;241m.\u001b[39mpath\u001b[38;5;241m.\u001b[39mbasename(src))\n\u001b[1;32m--> 423\u001b[0m \u001b[43mcopyfile\u001b[49m\u001b[43m(\u001b[49m\u001b[43msrc\u001b[49m\u001b[43m,\u001b[49m\u001b[43m \u001b[49m\u001b[43mdst\u001b[49m\u001b[43m,\u001b[49m\u001b[43m \u001b[49m\u001b[43mfollow_symlinks\u001b[49m\u001b[38;5;241;43m=\u001b[39;49m\u001b[43mfollow_symlinks\u001b[49m\u001b[43m)\u001b[49m\n\u001b[0;32m    424\u001b[0m copymode(src, dst, follow_symlinks\u001b[38;5;241m=\u001b[39mfollow_symlinks)\n\u001b[0;32m    425\u001b[0m \u001b[38;5;28;01mreturn\u001b[39;00m dst\n",
      "File \u001b[1;32mc:\\Users\\Admin\\AppData\\Local\\Programs\\Python\\Python312\\Lib\\shutil.py:260\u001b[0m, in \u001b[0;36mcopyfile\u001b[1;34m(src, dst, follow_symlinks)\u001b[0m\n\u001b[0;32m    258\u001b[0m     os\u001b[38;5;241m.\u001b[39msymlink(os\u001b[38;5;241m.\u001b[39mreadlink(src), dst)\n\u001b[0;32m    259\u001b[0m \u001b[38;5;28;01melse\u001b[39;00m:\n\u001b[1;32m--> 260\u001b[0m     \u001b[38;5;28;01mwith\u001b[39;00m \u001b[38;5;28;43mopen\u001b[39;49m\u001b[43m(\u001b[49m\u001b[43msrc\u001b[49m\u001b[43m,\u001b[49m\u001b[43m \u001b[49m\u001b[38;5;124;43m'\u001b[39;49m\u001b[38;5;124;43mrb\u001b[39;49m\u001b[38;5;124;43m'\u001b[39;49m\u001b[43m)\u001b[49m \u001b[38;5;28;01mas\u001b[39;00m fsrc:\n\u001b[0;32m    261\u001b[0m         \u001b[38;5;28;01mtry\u001b[39;00m:\n\u001b[0;32m    262\u001b[0m             \u001b[38;5;28;01mwith\u001b[39;00m \u001b[38;5;28mopen\u001b[39m(dst, \u001b[38;5;124m'\u001b[39m\u001b[38;5;124mwb\u001b[39m\u001b[38;5;124m'\u001b[39m) \u001b[38;5;28;01mas\u001b[39;00m fdst:\n\u001b[0;32m    263\u001b[0m                 \u001b[38;5;66;03m# macOS\u001b[39;00m\n",
      "\u001b[1;31mPermissionError\u001b[0m: [Errno 13] Permission denied: 'C:\\\\Users\\\\Admin\\\\Desktop\\\\sample3\\\\xyz'"
     ]
    }
   ],
   "source": [
    "import os\n",
    "import shutil\n",
    "\n",
    "def seg_file(folder):\n",
    "    \n",
    "    dest1 = \"C:\\\\Users\\\\Admin\\\\Desktop\\\\file1\"\n",
    "    dest2 = \"C:\\\\Users\\\\Admin\\\\Desktop\\\\file2\"\n",
    "    dest3 = \"C:\\\\Users\\\\Admin\\\\Desktop\\\\file3\"\n",
    "\n",
    "    # # Create directories if they don't exist\n",
    "    # os.makedirs(dest1, exist_ok=True)\n",
    "    # os.makedirs(dest2, exist_ok=True)\n",
    "    # os.makedirs(dest3, exist_ok=True)\n",
    "\n",
    "    for i in os.listdir(folder):\n",
    "        file_path = \"C:\\\\Users\\\\Admin\\\\Desktop\\\\sample3\\\\\"+i # Create full file path\n",
    "\n",
    "        file_size_kb = os.stat(file_path).st_size  # File size in KB\n",
    "            \n",
    "        if file_size_kb/1000 >=0 and file_size_kb/1000<=1:\n",
    "            shutil.copy(file_path, dest1)\n",
    "            print(f\"filename:{file_path:<50} filesize:{file_size_kb/1000:<20}  file1 \")\n",
    "        elif file_size_kb/1000 > 1 and file_size_kb/1000 <=5:\n",
    "            shutil.copy(file_path, dest2)\n",
    "            print(f\"filename:{file_path:<50} filesize:{file_size_kb/1000:<20}  file2 \")\n",
    "        elif file_size_kb/1000 > 5:\n",
    "            shutil.copy(file_path, dest3)\n",
    "            print(f\"filename:{file_path:<50} filesize:{file_size_kb/1000:<20}  file3 \")\n",
    "\n",
    "folder = \"C:\\\\Users\\\\Admin\\\\Desktop\\\\sample3\"\n",
    "seg_file(folder)"
   ]
  }
 ],
 "metadata": {
  "kernelspec": {
   "display_name": "Python 3",
   "language": "python",
   "name": "python3"
  },
  "language_info": {
   "codemirror_mode": {
    "name": "ipython",
    "version": 3
   },
   "file_extension": ".py",
   "mimetype": "text/x-python",
   "name": "python",
   "nbconvert_exporter": "python",
   "pygments_lexer": "ipython3",
   "version": "3.12.1"
  }
 },
 "nbformat": 4,
 "nbformat_minor": 2
}
